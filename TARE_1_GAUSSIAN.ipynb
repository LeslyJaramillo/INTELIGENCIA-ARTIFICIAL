{
  "nbformat": 4,
  "nbformat_minor": 0,
  "metadata": {
    "colab": {
      "provenance": [],
      "authorship_tag": "ABX9TyNOG5Q87XWaJALxYkeW7zV1",
      "include_colab_link": true
    },
    "kernelspec": {
      "name": "python3",
      "display_name": "Python 3"
    },
    "language_info": {
      "name": "python"
    }
  },
  "cells": [
    {
      "cell_type": "markdown",
      "metadata": {
        "id": "view-in-github",
        "colab_type": "text"
      },
      "source": [
        "<a href=\"https://colab.research.google.com/github/LeslyJaramillo/INTELIGENCIA-ARTIFICIAL/blob/main/TARE_1_GAUSSIAN.ipynb\" target=\"_parent\"><img src=\"https://colab.research.google.com/assets/colab-badge.svg\" alt=\"Open In Colab\"/></a>"
      ]
    },
    {
      "cell_type": "markdown",
      "source": [
        "## 1. Gaussian Process Regression (GPR)\n",
        "Un Gaussian Process define una distribución sobre funciones $f(x)$. Dados los datos de entrenamiento $X = {x_1, x_2, ..., x_N}$ y las etiquetas correspondientes $y = {y_1, y_2, ..., y_N}$, el modelo asume:\n",
        "\n",
        " $$y = f(X) + \\epsilon$$\n",
        "\n",
        "donde $\\epsilon \\sim N(0, \\sigma^2 I)$ es ruido gaussiano independiente.\n",
        "\n",
        "El prior sobre las funciones $f(x)$ es:\n",
        " $f(x) \\sim GP(0, k(x, x'))$\n",
        "donde $k(x, x')$ es el kernel que mide la similitud entre los puntos $x$ y $x'$.\n",
        "\n",
        "El posterior sobre las funciones dada la evidencia $(X, y)$ está dado por:\n",
        "$$f_* \\mid X, y, X_* \\sim N(f_*, K_* - K(X_*, X)K(X, X)^{-1}K(X, X_*))$$\n",
        "\n",
        "Donde:\n",
        "\n",
        "$K(X, X)$ es la matriz de covarianza del kernel sobre los puntos de entrenamiento.\n",
        "$K(X_*, X)$ es la covarianza entre puntos de prueba y puntos de entrenamiento.\n",
        "\n",
        "**Optimización:**\n",
        "Se optimizan los hiperparámetros del kernel maximizando la verosimilitud marginal:\n",
        "\n",
        "$$\\log p(y \\mid X) = -\\frac{1}{2} y^\\top K(X, X)^{-1} y - \\frac{1}{2} \\log \\vert K(X, X) \\vert - \\frac{N}{2} \\log 2\\pi$$\n",
        "\n"
      ],
      "metadata": {
        "id": "OHboQ37h9a-J"
      }
    },
    {
      "cell_type": "markdown",
      "source": [
        "# 2. Gaussian Process Classification (GPC)\n",
        "En GPC, se modela la probabilidad de pertenencia a una clase como:\n",
        "\n",
        "$$p(y = 1 \\mid f(x)) = \\sigma(f(x))$$\n",
        "\n",
        "donde $\\sigma(\\cdot)$ es una función sigmoide como la función logística o priori.\n",
        "\n",
        "El proceso gaussiano sigue el mismo prior descrito por:\n",
        "\n",
        "$$f(x) \\sim GP(0, k(x, x'))$$\n",
        "donde $k(x, x')$ es el kernel que mide la similitud entre los puntos $x$ y $x'$.\n",
        "\n",
        "**Optimización:**\n",
        "\n",
        "Dado que la verosimilitud no es gaussiana (porque estamos haciendo clasificación), la probabilidad marginal no tiene forma cerrada. Por ello, se utiliza aproximación, como la aproximación de Laplace o la variational inference para aproximar la posterior:\n",
        "\n",
        "$$p(f \\mid X, y) \\approx N(f; \\mu, \\Sigma)$$\n",
        " Luego, se maximiza la probabilidad marginal usando la función de costo aproximada."
      ],
      "metadata": {
        "id": "WTO9Rbeu_FSh"
      }
    },
    {
      "cell_type": "markdown",
      "source": [
        "# 3. Variational Gaussian Processes (VGP)\n",
        "El modelo VGP introduce aproximaciones variacionales para hacer más eficiente la inferencia en procesos gaussianos. En este caso, en lugar de tratar de calcular directamente la distribución posterior, se aproxima mediante un variational posterior $q(f)$.\n",
        "Se define un procesos gaussiano para modelar la distribución sobre funciones:\n",
        "$$f(x) \\sim GP(0, k(x, x'))$$\n",
        "\n",
        "El objetivo es maximizar una cota inferior variacional (ELBO) para aproximar la posterior $p(f \\mid X, y)$. Para una función de costo variacional, la Evidencia Lower Bound (ELBO) está dada por:\n",
        "\n",
        "$$\\mathcal{L}_{ELBO} = \\int q(f) \\log \\frac{p(y \\mid f)p(f)}{q(f)} df$$\n",
        "\n",
        "Este ELBO se maximiza con respecto a $q(f)$. En VGP, se modela $q(f)$ usando una distribución gaussiana, generalmente parametrizada en términos de su media $\\mu$ y covarianza $sigma$.\n",
        "\n",
        "Optimización:\n",
        "La optimización de VGP implica maximizar $\\mathcal{L}_{ELBO}$ con respecto a los parámetros variacionales, lo cual se puede hacer utilizando métodos de gradiente:\n",
        "\n",
        "$$\\frac{\\partial}{\\partial \\theta} \\mathcal{L}_{ELBO}$$\n",
        "\n",
        "donde $\\theta$ son los hiperparámetros del kernel y los parámetros variacionales de $q(f)$.\n",
        "\n",
        "\n"
      ],
      "metadata": {
        "id": "LDbI7Mq-nBvh"
      }
    },
    {
      "cell_type": "markdown",
      "source": [
        "# 4. Sparse Gaussian Process Regression (SGPR)\n",
        "SGPR utiliza un subconjunto reducido de puntos, llamados puntos inducidos $Z$, para aproximar la posterior. En lugar de usar la covarianza completa $K(X, X)$, se utiliza una covarianza reducida basada en $Z$.\n",
        "\n",
        "La matriz de covarianza del kernel aproximada es:\n",
        "$$K_{\\text{approx}} = K(X, Z) K(Z, Z)^{-1} K(Z, X)$$\n",
        "\n",
        "donde:\n",
        "\n",
        "$K(X, Z)$ es la covarianza entre los puntos de entrenamiento $X$ y los puntos inducidos $Z$.\n",
        "$K(Z, Z)$ es la covarianza entre los puntos inducidos.\n",
        "\n",
        "**Optimización:**\n",
        "\n",
        "SGPR maximiza una bound variacional similar a VGP, pero limitada a un número de puntos $M \\ll N$. Se optimizan los puntos inducidos $Z$ y los hiperparámetros del kernel.\n",
        "\n",
        "La bound variacional es:\n",
        "$$L_{\\text{SGPR}} = \\log p(y \\mid X, Z)$$\n",
        "\n",
        "donde $Z$ son los puntos inducidos y $X$ son los puntos de entrenamiento."
      ],
      "metadata": {
        "id": "BwoOAQ6EA-7l"
      }
    },
    {
      "cell_type": "markdown",
      "source": [
        "# 5. Stochastic Variational Gaussian Processes (SVGP)\n",
        "\n",
        "SVGP es una extensión de SGPR que maneja grandes conjuntos de datos mediante mini-lotes. En lugar de usar todos los datos, SVGP divide el conjunto de datos en mini-lotes de tamaño $B$ para que el cálculo sea más eficiente.\n",
        "\n",
        "La matriz de covarianza aproximada es la misma que en SGPR:\n",
        "\n",
        "$$$K_{\\text{approx}} = K(X, Z) K(Z, Z)^{-1} K(Z, X)$$\n",
        "\n",
        "donde:\n",
        "\n",
        "$K(X, Z)$ es la covarianza entre los puntos de entrenamiento $X$ y los puntos inducidos $Z$.\n",
        "$K(Z, Z)$ es la covarianza entre los puntos inducidos.\n",
        "\n",
        "**Optimización:**\n",
        "\n",
        "SVGP optimiza la evidencia variacional baja (ELBO) sobre mini-lotes de datos. Esto reduce el costo computacional a $O(M^2 B)$, donde $M$ es el número de puntos inducidos y $B$ es el tamaño del mini-lote.\n",
        "\n",
        "La bound variacional que se maximiza es:\n",
        "\n",
        "$$L_{\\text{SVGP}} = \\frac{N}{B} \\sum_{i=1}^{B} \\log p(y_i \\mid f(x_i), Z)$$\n",
        "\n",
        "donde $B$ es el tamaño del mini-lote y $N$ es el número total de datos.\n"
      ],
      "metadata": {
        "id": "UeFrW4epAu1e"
      }
    },
    {
      "cell_type": "markdown",
      "source": [
        "# 2. Metodos de Optimización\n",
        "**Optimización con SciPy (BFGS)**\n",
        "\n",
        "La función objetivo que se optimiza es la log-verosimilitud marginal o la Evidencia Lower Bound (ELBO). El objetivo es minimizar $\\mathcal{L}(\\theta)$ respecto a los parámetros $\\theta$ del modelo.\n",
        "$$\n",
        "\\theta^* = \\text{argmin}_{\\theta} \\, \\mathcal{L}(\\theta)\n",
        "$$\n",
        "Donde $\\mathcal{L}(\\theta)$ es la función de log-verosimilitud o ELBO.\n",
        "\n",
        "**Optimización con TensorFlow (Adam)**\n",
        "\n",
        "El método de optimización Adam sigue esta regla para actualizar los parámetros:\n",
        "\n",
        "$$\n",
        "\\theta_{t+1} = \\theta_t - \\eta \\frac{m_t}{\\sqrt{v_t} + \\epsilon}\n",
        "$$\n",
        "$$\n",
        "\\theta_{t+1} = \\theta_t - \\eta \\frac{m_t}{\\sqrt{v_t} + \\epsilon}\n",
        "$$\n",
        "\n",
        "Donde:\n",
        "\n",
        "$\\theta_t$ son los parámetros en el paso $t$.\n",
        "$\\eta$ es la tasa de aprendizaje.\n",
        "$m_t$ es el promedio móvil del gradiente.\n",
        "$v_t$ es el promedio móvil del cuadrado del gradiente.\n",
        "$\\epsilon$ es un pequeño valor para evitar divisiones por cero.\n",
        "\n",
        "**Evidencia Lower Bound (ELBO)** para SVGP\n",
        "En SVGP, la función de costo que se minimiza es la ELBO sobre mini-lotes de datos:\n",
        "\n",
        "$$\n",
        "\\mathcal{L}_{\\text{ELBO}} = \\frac{N}{B} \\sum_{i=1}^{B} \\log p(y_i \\mid f(x_i), Z) - \\text{KL}(q(f) || p(f))\n",
        "$$\n",
        "\n",
        "Donde:\n",
        "\n",
        "$N$ es el número total de datos.\n",
        "$B$ es el tamaño del mini-lote.\n",
        "$\\text{KL}(q(f) || p(f))$ es la divergencia de Kullback-Leibler entre el posterior aproximado $q(f)$ y el prior $p(f)$.\n",
        "\n"
      ],
      "metadata": {
        "id": "TdRFY0lcD8vS"
      }
    },
    {
      "cell_type": "markdown",
      "source": [
        "# 3. Clasificador Multiclase"
      ],
      "metadata": {
        "id": "Euxs2DGMHYRe"
      }
    },
    {
      "cell_type": "code",
      "source": [
        "!pip install gpflow tensorflow numpy tensorflow_datasets"
      ],
      "metadata": {
        "colab": {
          "base_uri": "https://localhost:8080/"
        },
        "id": "H8xFTeikX5bt",
        "outputId": "9de563fa-47e4-43ce-959a-7f3883f66112"
      },
      "execution_count": 4,
      "outputs": [
        {
          "output_type": "stream",
          "name": "stdout",
          "text": [
            "Requirement already satisfied: gpflow in /usr/local/lib/python3.10/dist-packages (2.9.2)\n",
            "Requirement already satisfied: tensorflow in /usr/local/lib/python3.10/dist-packages (2.17.0)\n",
            "Requirement already satisfied: numpy in /usr/local/lib/python3.10/dist-packages (1.26.4)\n",
            "Requirement already satisfied: tensorflow_datasets in /usr/local/lib/python3.10/dist-packages (4.9.6)\n",
            "Requirement already satisfied: check-shapes>=1.0.0 in /usr/local/lib/python3.10/dist-packages (from gpflow) (1.1.1)\n",
            "Requirement already satisfied: deprecated in /usr/local/lib/python3.10/dist-packages (from gpflow) (1.2.14)\n",
            "Requirement already satisfied: multipledispatch>=0.6 in /usr/local/lib/python3.10/dist-packages (from gpflow) (1.0.0)\n",
            "Requirement already satisfied: packaging in /usr/local/lib/python3.10/dist-packages (from gpflow) (24.1)\n",
            "Requirement already satisfied: scipy in /usr/local/lib/python3.10/dist-packages (from gpflow) (1.13.1)\n",
            "Requirement already satisfied: setuptools>=41.0.0 in /usr/local/lib/python3.10/dist-packages (from gpflow) (71.0.4)\n",
            "Requirement already satisfied: tabulate in /usr/local/lib/python3.10/dist-packages (from gpflow) (0.9.0)\n",
            "Requirement already satisfied: tensorflow-probability>=0.12.0 in /usr/local/lib/python3.10/dist-packages (from tensorflow-probability[tf]>=0.12.0->gpflow) (0.24.0)\n",
            "Requirement already satisfied: typing-extensions in /usr/local/lib/python3.10/dist-packages (from gpflow) (4.12.2)\n",
            "Requirement already satisfied: absl-py>=1.0.0 in /usr/local/lib/python3.10/dist-packages (from tensorflow) (1.4.0)\n",
            "Requirement already satisfied: astunparse>=1.6.0 in /usr/local/lib/python3.10/dist-packages (from tensorflow) (1.6.3)\n",
            "Requirement already satisfied: flatbuffers>=24.3.25 in /usr/local/lib/python3.10/dist-packages (from tensorflow) (24.3.25)\n",
            "Requirement already satisfied: gast!=0.5.0,!=0.5.1,!=0.5.2,>=0.2.1 in /usr/local/lib/python3.10/dist-packages (from tensorflow) (0.6.0)\n",
            "Requirement already satisfied: google-pasta>=0.1.1 in /usr/local/lib/python3.10/dist-packages (from tensorflow) (0.2.0)\n",
            "Requirement already satisfied: h5py>=3.10.0 in /usr/local/lib/python3.10/dist-packages (from tensorflow) (3.11.0)\n",
            "Requirement already satisfied: libclang>=13.0.0 in /usr/local/lib/python3.10/dist-packages (from tensorflow) (18.1.1)\n",
            "Requirement already satisfied: ml-dtypes<0.5.0,>=0.3.1 in /usr/local/lib/python3.10/dist-packages (from tensorflow) (0.4.1)\n",
            "Requirement already satisfied: opt-einsum>=2.3.2 in /usr/local/lib/python3.10/dist-packages (from tensorflow) (3.4.0)\n",
            "Requirement already satisfied: protobuf!=4.21.0,!=4.21.1,!=4.21.2,!=4.21.3,!=4.21.4,!=4.21.5,<5.0.0dev,>=3.20.3 in /usr/local/lib/python3.10/dist-packages (from tensorflow) (3.20.3)\n",
            "Requirement already satisfied: requests<3,>=2.21.0 in /usr/local/lib/python3.10/dist-packages (from tensorflow) (2.32.3)\n",
            "Requirement already satisfied: six>=1.12.0 in /usr/local/lib/python3.10/dist-packages (from tensorflow) (1.16.0)\n",
            "Requirement already satisfied: termcolor>=1.1.0 in /usr/local/lib/python3.10/dist-packages (from tensorflow) (2.4.0)\n",
            "Requirement already satisfied: wrapt>=1.11.0 in /usr/local/lib/python3.10/dist-packages (from tensorflow) (1.16.0)\n",
            "Requirement already satisfied: grpcio<2.0,>=1.24.3 in /usr/local/lib/python3.10/dist-packages (from tensorflow) (1.64.1)\n",
            "Requirement already satisfied: tensorboard<2.18,>=2.17 in /usr/local/lib/python3.10/dist-packages (from tensorflow) (2.17.0)\n",
            "Requirement already satisfied: keras>=3.2.0 in /usr/local/lib/python3.10/dist-packages (from tensorflow) (3.4.1)\n",
            "Requirement already satisfied: tensorflow-io-gcs-filesystem>=0.23.1 in /usr/local/lib/python3.10/dist-packages (from tensorflow) (0.37.1)\n",
            "Requirement already satisfied: click in /usr/local/lib/python3.10/dist-packages (from tensorflow_datasets) (8.1.7)\n",
            "Requirement already satisfied: dm-tree in /usr/local/lib/python3.10/dist-packages (from tensorflow_datasets) (0.1.8)\n",
            "Requirement already satisfied: immutabledict in /usr/local/lib/python3.10/dist-packages (from tensorflow_datasets) (4.2.0)\n",
            "Requirement already satisfied: promise in /usr/local/lib/python3.10/dist-packages (from tensorflow_datasets) (2.3)\n",
            "Requirement already satisfied: psutil in /usr/local/lib/python3.10/dist-packages (from tensorflow_datasets) (5.9.5)\n",
            "Requirement already satisfied: pyarrow in /usr/local/lib/python3.10/dist-packages (from tensorflow_datasets) (16.1.0)\n",
            "Requirement already satisfied: simple-parsing in /usr/local/lib/python3.10/dist-packages (from tensorflow_datasets) (0.1.6)\n",
            "Requirement already satisfied: tensorflow-metadata in /usr/local/lib/python3.10/dist-packages (from tensorflow_datasets) (1.15.0)\n",
            "Requirement already satisfied: toml in /usr/local/lib/python3.10/dist-packages (from tensorflow_datasets) (0.10.2)\n",
            "Requirement already satisfied: tqdm in /usr/local/lib/python3.10/dist-packages (from tensorflow_datasets) (4.66.5)\n",
            "Requirement already satisfied: array-record>=0.5.0 in /usr/local/lib/python3.10/dist-packages (from tensorflow_datasets) (0.5.1)\n",
            "Requirement already satisfied: etils>=1.6.0 in /usr/local/lib/python3.10/dist-packages (from etils[enp,epath,epy,etree]>=1.6.0; python_version < \"3.11\"->tensorflow_datasets) (1.9.4)\n",
            "Requirement already satisfied: wheel<1.0,>=0.23.0 in /usr/local/lib/python3.10/dist-packages (from astunparse>=1.6.0->tensorflow) (0.44.0)\n",
            "Requirement already satisfied: dropstackframe>=0.1.0 in /usr/local/lib/python3.10/dist-packages (from check-shapes>=1.0.0->gpflow) (0.1.1)\n",
            "Requirement already satisfied: lark<2.0.0,>=1.1.0 in /usr/local/lib/python3.10/dist-packages (from check-shapes>=1.0.0->gpflow) (1.2.2)\n",
            "Requirement already satisfied: fsspec in /usr/local/lib/python3.10/dist-packages (from etils[enp,epath,epy,etree]>=1.6.0; python_version < \"3.11\"->tensorflow_datasets) (2024.6.1)\n",
            "Requirement already satisfied: importlib_resources in /usr/local/lib/python3.10/dist-packages (from etils[enp,epath,epy,etree]>=1.6.0; python_version < \"3.11\"->tensorflow_datasets) (6.4.5)\n",
            "Requirement already satisfied: zipp in /usr/local/lib/python3.10/dist-packages (from etils[enp,epath,epy,etree]>=1.6.0; python_version < \"3.11\"->tensorflow_datasets) (3.20.2)\n",
            "Requirement already satisfied: rich in /usr/local/lib/python3.10/dist-packages (from keras>=3.2.0->tensorflow) (13.8.1)\n",
            "Requirement already satisfied: namex in /usr/local/lib/python3.10/dist-packages (from keras>=3.2.0->tensorflow) (0.0.8)\n",
            "Requirement already satisfied: optree in /usr/local/lib/python3.10/dist-packages (from keras>=3.2.0->tensorflow) (0.12.1)\n",
            "Requirement already satisfied: charset-normalizer<4,>=2 in /usr/local/lib/python3.10/dist-packages (from requests<3,>=2.21.0->tensorflow) (3.3.2)\n",
            "Requirement already satisfied: idna<4,>=2.5 in /usr/local/lib/python3.10/dist-packages (from requests<3,>=2.21.0->tensorflow) (3.10)\n",
            "Requirement already satisfied: urllib3<3,>=1.21.1 in /usr/local/lib/python3.10/dist-packages (from requests<3,>=2.21.0->tensorflow) (2.2.3)\n",
            "Requirement already satisfied: certifi>=2017.4.17 in /usr/local/lib/python3.10/dist-packages (from requests<3,>=2.21.0->tensorflow) (2024.8.30)\n",
            "Requirement already satisfied: markdown>=2.6.8 in /usr/local/lib/python3.10/dist-packages (from tensorboard<2.18,>=2.17->tensorflow) (3.7)\n",
            "Requirement already satisfied: tensorboard-data-server<0.8.0,>=0.7.0 in /usr/local/lib/python3.10/dist-packages (from tensorboard<2.18,>=2.17->tensorflow) (0.7.2)\n",
            "Requirement already satisfied: werkzeug>=1.0.1 in /usr/local/lib/python3.10/dist-packages (from tensorboard<2.18,>=2.17->tensorflow) (3.0.4)\n",
            "Requirement already satisfied: decorator in /usr/local/lib/python3.10/dist-packages (from tensorflow-probability>=0.12.0->tensorflow-probability[tf]>=0.12.0->gpflow) (4.4.2)\n",
            "Requirement already satisfied: cloudpickle>=1.3 in /usr/local/lib/python3.10/dist-packages (from tensorflow-probability>=0.12.0->tensorflow-probability[tf]>=0.12.0->gpflow) (2.2.1)\n",
            "Requirement already satisfied: tf-keras>=2.16 in /usr/local/lib/python3.10/dist-packages (from tensorflow-probability[tf]>=0.12.0->gpflow) (2.17.0)\n",
            "Requirement already satisfied: docstring-parser<1.0,>=0.15 in /usr/local/lib/python3.10/dist-packages (from simple-parsing->tensorflow_datasets) (0.16)\n",
            "Requirement already satisfied: MarkupSafe>=2.1.1 in /usr/local/lib/python3.10/dist-packages (from werkzeug>=1.0.1->tensorboard<2.18,>=2.17->tensorflow) (2.1.5)\n",
            "Requirement already satisfied: markdown-it-py>=2.2.0 in /usr/local/lib/python3.10/dist-packages (from rich->keras>=3.2.0->tensorflow) (3.0.0)\n",
            "Requirement already satisfied: pygments<3.0.0,>=2.13.0 in /usr/local/lib/python3.10/dist-packages (from rich->keras>=3.2.0->tensorflow) (2.18.0)\n",
            "Requirement already satisfied: mdurl~=0.1 in /usr/local/lib/python3.10/dist-packages (from markdown-it-py>=2.2.0->rich->keras>=3.2.0->tensorflow) (0.1.2)\n"
          ]
        }
      ]
    },
    {
      "cell_type": "code",
      "source": [
        "import gpflow\n",
        "import numpy as np\n",
        "import tensorflow as tf\n",
        "import tensorflow_datasets as tfds\n",
        "from gpflow.utilities import print_summary\n",
        "from sklearn.preprocessing import StandardScaler\n",
        "from sklearn.metrics import accuracy_score\n",
        "import matplotlib.pyplot as plt"
      ],
      "metadata": {
        "id": "0RhIQqJCHxMc"
      },
      "execution_count": 5,
      "outputs": []
    },
    {
      "cell_type": "code",
      "source": [
        "# Cargar el dataset Fashion MNIST\n",
        "(ds_train, ds_test), ds_info = tfds.load(\n",
        "    'fashion_mnist', split=['train', 'test'], shuffle_files=True, as_supervised=True, with_info=True)"
      ],
      "metadata": {
        "id": "kw8VxN3PH2cL"
      },
      "execution_count": 6,
      "outputs": []
    },
    {
      "cell_type": "code",
      "source": [
        "def preprocess(dataset):\n",
        "    images, labels = [], []\n",
        "    for image, label in dataset:\n",
        "        images.append(tf.reshape(image, [-1]).numpy() / 255.0)\n",
        "        labels.append(label.numpy())\n",
        "    return np.array(images), np.array(labels)"
      ],
      "metadata": {
        "id": "Vcyl0P7JH_S3"
      },
      "execution_count": 7,
      "outputs": []
    },
    {
      "cell_type": "code",
      "source": [
        "X_train, y_train = preprocess(ds_train)\n",
        "X_test, y_test = preprocess(ds_test)"
      ],
      "metadata": {
        "id": "INSa7AO6IVxK"
      },
      "execution_count": 8,
      "outputs": []
    },
    {
      "cell_type": "code",
      "source": [
        "# Normalizar\n",
        "scaler = StandardScaler()\n",
        "X_train = scaler.fit_transform(X_train)\n",
        "X_test = scaler.transform(X_test)"
      ],
      "metadata": {
        "id": "GvyUFlh9IbKs"
      },
      "execution_count": 9,
      "outputs": []
    },
    {
      "cell_type": "code",
      "source": [
        "#Puntos inducidos para el GP\n",
        "num_inducing_points = 100\n",
        "inducing_points = X_train[:num_inducing_points]"
      ],
      "metadata": {
        "id": "jDH9y2HYIjs-"
      },
      "execution_count": 10,
      "outputs": []
    },
    {
      "cell_type": "code",
      "source": [
        "num_classes = 10\n",
        "y_train_one_hot = np.eye(num_classes)[y_train]"
      ],
      "metadata": {
        "id": "f_RDT7bIIzbr"
      },
      "execution_count": 11,
      "outputs": []
    },
    {
      "cell_type": "code",
      "source": [
        "# Definir un kernel\n",
        "kernel = gpflow.kernels.SquaredExponential()"
      ],
      "metadata": {
        "id": "4ZphVKqZI6zO"
      },
      "execution_count": 12,
      "outputs": []
    },
    {
      "cell_type": "code",
      "source": [
        "# Crear un modelo de clasificación GP\n",
        "Z = inducing_points\n",
        "model = gpflow.models.SVGP(\n",
        "    kernel=kernel,\n",
        "    likelihood=gpflow.likelihoods.MultiClass(num_classes),\n",
        "    inducing_variable=Z,\n",
        "    num_latent_gps=num_classes,\n",
        "    q_diag=True)"
      ],
      "metadata": {
        "id": "dqeF1mOdJbpN"
      },
      "execution_count": 13,
      "outputs": []
    },
    {
      "cell_type": "code",
      "source": [
        "#optimizador\n",
        "optimizer = tf.optimizers.Adam(learning_rate=0.01)"
      ],
      "metadata": {
        "id": "8ml8CV10Jnn2"
      },
      "execution_count": 14,
      "outputs": []
    },
    {
      "cell_type": "code",
      "source": [
        "@tf.function\n",
        "def step(X_batch, y_batch):\n",
        "    with tf.GradientTape() as tape:\n",
        "        objective = -model.elbo((X_batch, y_batch))\n",
        "    grads = tape.gradient(objective, model.trainable_variables)\n",
        "    optimizer.apply_gradients(zip(grads, model.trainable_variables))\n",
        "    return objective"
      ],
      "metadata": {
        "id": "p8ZKUAxqJxnj"
      },
      "execution_count": 19,
      "outputs": []
    },
    {
      "cell_type": "code",
      "source": [
        "batch_size = 100\n",
        "train_dataset = tf.data.Dataset.from_tensor_slices((X_train, y_train)).batch(batch_size)"
      ],
      "metadata": {
        "id": "kC8bxRAmJ9MD"
      },
      "execution_count": 20,
      "outputs": []
    },
    {
      "cell_type": "code",
      "source": [
        "#Entrenar el modelo\n",
        "epochs = 5\n",
        "for epoch in range(epochs):\n",
        "    for step_num, (X_batch, y_batch) in enumerate(train_dataset):\n",
        "        elbo = step(X_batch, y_batch)\n",
        "    print(f\"Epoch {epoch + 1}/{epochs}, ELBO: {elbo.numpy()}\")"
      ],
      "metadata": {
        "colab": {
          "base_uri": "https://localhost:8080/"
        },
        "id": "ShyzOL1mKEOg",
        "outputId": "f0feba23-a6d7-4852-9091-65d77d39f9c8"
      },
      "execution_count": 21,
      "outputs": [
        {
          "output_type": "stream",
          "name": "stdout",
          "text": [
            "Epoch 1/5, ELBO: 819.4414786268858\n",
            "Epoch 2/5, ELBO: 819.4414786272725\n",
            "Epoch 3/5, ELBO: 819.4414786268806\n",
            "Epoch 4/5, ELBO: 819.4414786268945\n",
            "Epoch 5/5, ELBO: 819.4414786269882\n"
          ]
        }
      ]
    },
    {
      "cell_type": "code",
      "source": [
        "f_mean, f_var = model.predict_y(X_test)\n",
        "y_pred = np.argmax(f_mean, axis=1)\n",
        "accuracy = accuracy_score(y_test, y_pred)\n",
        "print(f'Accuracy: {accuracy * 100:.2f}%')"
      ],
      "metadata": {
        "colab": {
          "base_uri": "https://localhost:8080/"
        },
        "id": "n1xVMMtxKNBh",
        "outputId": "5ec63170-9ddf-4fbb-9946-b23275227a3b"
      },
      "execution_count": 22,
      "outputs": [
        {
          "output_type": "stream",
          "name": "stdout",
          "text": [
            "Accuracy: 10.18%\n"
          ]
        }
      ]
    },
    {
      "cell_type": "code",
      "source": [
        "# Graficar el kernel\n",
        "K = kernel(inducing_points)\n",
        "\n",
        "plt.figure(figsize=(8, 6))\n",
        "plt.imshow(K.numpy(), cmap='viridis')\n",
        "plt.colorbar(label='Covariance')\n",
        "plt.title('Matriz de Covarianza del Kernel')\n",
        "plt.xlabel('Puntos Inducidos')\n",
        "plt.ylabel('Puntos Inducidos')\n",
        "plt.show()\n"
      ],
      "metadata": {
        "colab": {
          "base_uri": "https://localhost:8080/",
          "height": 564
        },
        "id": "t_m9b-05Mh3H",
        "outputId": "670d9766-0a34-4fe9-b218-cfa953e297b3"
      },
      "execution_count": 25,
      "outputs": [
        {
          "output_type": "display_data",
          "data": {
            "text/plain": [
              "<Figure size 800x600 with 2 Axes>"
            ],
            "image/png": "[encoded data removed]"
          },
          "metadata": {}
        }
      ]
    },
    {
      "cell_type": "code",
      "source": [
        "plt.figure(figsize=(10, 10))\n",
        "for i in range(9):\n",
        "    plt.subplot(3, 3, i + 1)\n",
        "    plt.imshow(X_test[i].reshape(28, 28), cmap='gray')\n",
        "    plt.title(f'Predicted: {y_pred[i]}, True: {y_test[i]}')\n",
        "    plt.axis('off')\n",
        "plt.show()"
      ],
      "metadata": {
        "colab": {
          "base_uri": "https://localhost:8080/",
          "height": 829
        },
        "id": "jLYAfjzIKlqf",
        "outputId": "ee8e9145-202a-465b-abe6-3ed5597a07c1"
      },
      "execution_count": 23,
      "outputs": [
        {
          "output_type": "display_data",
          "data": {
            "text/plain": [
              "<Figure size 1000x1000 with 9 Axes>"
            ],
            "image/png": "[encoded data removed]"
          },
          "metadata": {}
        }
      ]
    },
    {
      "cell_type": "markdown",
      "source": [
        "# 3. Ventajas y desventajas del VAE y GP\n",
        "\n",
        "**Ventajas del Autoencoder Variacional (VAE):**\n",
        "\n",
        "\n",
        "* Los VAE aprenden una representación comprimida de los datos, generando nuevas muestras y capturando la distribución de datos complejos.\n",
        "\n",
        "* Funcionan bien con grandes volúmenes de datos y múltiples clases.\n",
        "Generación de datos: Pueden generar ejemplos similares a los datos originales, útiles en tareas creativas o de datos faltantes.\n",
        "\n",
        "**Desventajas del VAE:**\n",
        "\n",
        "* Entrenarlos puede ser complicado y difícil de ajustar, especialmente para garantizar buenos resultados en clasificación.\n",
        "* Difícil entender cómo se toman las decisiones, ya que no es un modelo explícitamente probabilístico en el sentido tradicional.\n",
        "\n",
        "**Ventajas de Procesos Gaussianos (GP) y GPflow:**\n",
        "\n",
        "* GP proporciona una medida clara de la incertidumbre en las predicciones, algo crucial en entornos de riesgo.\n",
        "* Ajusta bien con pocos datos, evitando el sobreajuste.\n",
        "* Se entiende mejor cómo se toman las decisiones debido a la base probabilística.\n",
        "Desventajas de GP y GPflow:\n",
        "\n",
        "*  No manejan bien grandes conjuntos de datos; el costo computacional crece exponencialmente.\n",
        "* Aunque son potentes, requieren ajustes de kernel complejos para patrones de datos.\n",
        "\n",
        "En la tarea de clasificación de imágenes con fashion_mnist , el modelo basado en Autoencoder Variacional superó al modelo de Proceso Gaussiano , ya que el autoencoder logró una mejor reconstrucción de las imágenes y, como resultado, una clasificación más precisa. El VAE fue capaz de capturar las características visuales importantes, lo que permitió un mejor rendimiento en esta tarea visual.\n"
      ],
      "metadata": {
        "id": "nnZcd8hZQCuB"
      }
    }
  ]
}