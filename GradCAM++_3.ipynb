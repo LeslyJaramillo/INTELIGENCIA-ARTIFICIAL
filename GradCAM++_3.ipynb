{
  "nbformat": 4,
  "nbformat_minor": 0,
  "metadata": {
    "colab": {
      "provenance": [],
      "authorship_tag": "ABX9TyMnn085dlkkPwokpmVBTxii",
      "include_colab_link": true
    },
    "kernelspec": {
      "name": "python3",
      "display_name": "Python 3"
    },
    "language_info": {
      "name": "python"
    }
  },
  "cells": [
    {
      "cell_type": "markdown",
      "metadata": {
        "id": "view-in-github",
        "colab_type": "text"
      },
      "source": [
        "<a href=\"https://colab.research.google.com/github/LeslyJaramillo/INTELIGENCIA-ARTIFICIAL/blob/main/GradCAM%2B%2B_3.ipynb\" target=\"_parent\"><img src=\"https://colab.research.google.com/assets/colab-badge.svg\" alt=\"Open In Colab\"/></a>"
      ]
    },
    {
      "cell_type": "markdown",
      "source": [
        "\n",
        "\n",
        "# IMPORTAR LIBRERIAS\n",
        "\n"
      ],
      "metadata": {
        "id": "ByOiW7sfPAwN"
      }
    },
    {
      "cell_type": "code",
      "source": [
        "!pip install tf-keras-vis tensorflow"
      ],
      "metadata": {
        "colab": {
          "base_uri": "https://localhost:8080/"
        },
        "id": "eMcuH921OuyH",
        "outputId": "d8e6e87f-8931-4bd7-a574-f8b8a366c58e"
      },
      "execution_count": null,
      "outputs": [
        {
          "output_type": "stream",
          "name": "stdout",
          "text": [
            "Collecting tf-keras-vis\n",
            "  Downloading tf_keras_vis-0.8.7-py3-none-any.whl.metadata (10 kB)\n",
            "Requirement already satisfied: tensorflow in /usr/local/lib/python3.10/dist-packages (2.17.0)\n",
            "Requirement already satisfied: scipy in /usr/local/lib/python3.10/dist-packages (from tf-keras-vis) (1.13.1)\n",
            "Requirement already satisfied: pillow in /usr/local/lib/python3.10/dist-packages (from tf-keras-vis) (9.4.0)\n",
            "Collecting deprecated (from tf-keras-vis)\n",
            "  Downloading Deprecated-1.2.14-py2.py3-none-any.whl.metadata (5.4 kB)\n",
            "Requirement already satisfied: imageio in /usr/local/lib/python3.10/dist-packages (from tf-keras-vis) (2.34.2)\n",
            "Requirement already satisfied: packaging in /usr/local/lib/python3.10/dist-packages (from tf-keras-vis) (24.1)\n",
            "Requirement already satisfied: absl-py>=1.0.0 in /usr/local/lib/python3.10/dist-packages (from tensorflow) (1.4.0)\n",
            "Requirement already satisfied: astunparse>=1.6.0 in /usr/local/lib/python3.10/dist-packages (from tensorflow) (1.6.3)\n",
            "Requirement already satisfied: flatbuffers>=24.3.25 in /usr/local/lib/python3.10/dist-packages (from tensorflow) (24.3.25)\n",
            "Requirement already satisfied: gast!=0.5.0,!=0.5.1,!=0.5.2,>=0.2.1 in /usr/local/lib/python3.10/dist-packages (from tensorflow) (0.6.0)\n",
            "Requirement already satisfied: google-pasta>=0.1.1 in /usr/local/lib/python3.10/dist-packages (from tensorflow) (0.2.0)\n",
            "Requirement already satisfied: h5py>=3.10.0 in /usr/local/lib/python3.10/dist-packages (from tensorflow) (3.11.0)\n",
            "Requirement already satisfied: libclang>=13.0.0 in /usr/local/lib/python3.10/dist-packages (from tensorflow) (18.1.1)\n",
            "Requirement already satisfied: ml-dtypes<0.5.0,>=0.3.1 in /usr/local/lib/python3.10/dist-packages (from tensorflow) (0.4.0)\n",
            "Requirement already satisfied: opt-einsum>=2.3.2 in /usr/local/lib/python3.10/dist-packages (from tensorflow) (3.3.0)\n",
            "Requirement already satisfied: protobuf!=4.21.0,!=4.21.1,!=4.21.2,!=4.21.3,!=4.21.4,!=4.21.5,<5.0.0dev,>=3.20.3 in /usr/local/lib/python3.10/dist-packages (from tensorflow) (3.20.3)\n",
            "Requirement already satisfied: requests<3,>=2.21.0 in /usr/local/lib/python3.10/dist-packages (from tensorflow) (2.32.3)\n",
            "Requirement already satisfied: setuptools in /usr/local/lib/python3.10/dist-packages (from tensorflow) (71.0.4)\n",
            "Requirement already satisfied: six>=1.12.0 in /usr/local/lib/python3.10/dist-packages (from tensorflow) (1.16.0)\n",
            "Requirement already satisfied: termcolor>=1.1.0 in /usr/local/lib/python3.10/dist-packages (from tensorflow) (2.4.0)\n",
            "Requirement already satisfied: typing-extensions>=3.6.6 in /usr/local/lib/python3.10/dist-packages (from tensorflow) (4.12.2)\n",
            "Requirement already satisfied: wrapt>=1.11.0 in /usr/local/lib/python3.10/dist-packages (from tensorflow) (1.16.0)\n",
            "Requirement already satisfied: grpcio<2.0,>=1.24.3 in /usr/local/lib/python3.10/dist-packages (from tensorflow) (1.64.1)\n",
            "Requirement already satisfied: tensorboard<2.18,>=2.17 in /usr/local/lib/python3.10/dist-packages (from tensorflow) (2.17.0)\n",
            "Requirement already satisfied: keras>=3.2.0 in /usr/local/lib/python3.10/dist-packages (from tensorflow) (3.4.1)\n",
            "Requirement already satisfied: tensorflow-io-gcs-filesystem>=0.23.1 in /usr/local/lib/python3.10/dist-packages (from tensorflow) (0.37.1)\n",
            "Requirement already satisfied: numpy<2.0.0,>=1.23.5 in /usr/local/lib/python3.10/dist-packages (from tensorflow) (1.26.4)\n",
            "Requirement already satisfied: wheel<1.0,>=0.23.0 in /usr/local/lib/python3.10/dist-packages (from astunparse>=1.6.0->tensorflow) (0.44.0)\n",
            "Requirement already satisfied: rich in /usr/local/lib/python3.10/dist-packages (from keras>=3.2.0->tensorflow) (13.7.1)\n",
            "Requirement already satisfied: namex in /usr/local/lib/python3.10/dist-packages (from keras>=3.2.0->tensorflow) (0.0.8)\n",
            "Requirement already satisfied: optree in /usr/local/lib/python3.10/dist-packages (from keras>=3.2.0->tensorflow) (0.12.1)\n",
            "Requirement already satisfied: charset-normalizer<4,>=2 in /usr/local/lib/python3.10/dist-packages (from requests<3,>=2.21.0->tensorflow) (3.3.2)\n",
            "Requirement already satisfied: idna<4,>=2.5 in /usr/local/lib/python3.10/dist-packages (from requests<3,>=2.21.0->tensorflow) (3.7)\n",
            "Requirement already satisfied: urllib3<3,>=1.21.1 in /usr/local/lib/python3.10/dist-packages (from requests<3,>=2.21.0->tensorflow) (2.0.7)\n",
            "Requirement already satisfied: certifi>=2017.4.17 in /usr/local/lib/python3.10/dist-packages (from requests<3,>=2.21.0->tensorflow) (2024.7.4)\n",
            "Requirement already satisfied: markdown>=2.6.8 in /usr/local/lib/python3.10/dist-packages (from tensorboard<2.18,>=2.17->tensorflow) (3.6)\n",
            "Requirement already satisfied: tensorboard-data-server<0.8.0,>=0.7.0 in /usr/local/lib/python3.10/dist-packages (from tensorboard<2.18,>=2.17->tensorflow) (0.7.2)\n",
            "Requirement already satisfied: werkzeug>=1.0.1 in /usr/local/lib/python3.10/dist-packages (from tensorboard<2.18,>=2.17->tensorflow) (3.0.3)\n",
            "Requirement already satisfied: MarkupSafe>=2.1.1 in /usr/local/lib/python3.10/dist-packages (from werkzeug>=1.0.1->tensorboard<2.18,>=2.17->tensorflow) (2.1.5)\n",
            "Requirement already satisfied: markdown-it-py>=2.2.0 in /usr/local/lib/python3.10/dist-packages (from rich->keras>=3.2.0->tensorflow) (3.0.0)\n",
            "Requirement already satisfied: pygments<3.0.0,>=2.13.0 in /usr/local/lib/python3.10/dist-packages (from rich->keras>=3.2.0->tensorflow) (2.16.1)\n",
            "Requirement already satisfied: mdurl~=0.1 in /usr/local/lib/python3.10/dist-packages (from markdown-it-py>=2.2.0->rich->keras>=3.2.0->tensorflow) (0.1.2)\n",
            "Downloading tf_keras_vis-0.8.7-py3-none-any.whl (52 kB)\n",
            "\u001b[2K   \u001b[90m━━━━━━━━━━━━━━━━━━━━━━━━━━━━━━━━━━━━━━━━\u001b[0m \u001b[32m52.5/52.5 kB\u001b[0m \u001b[31m1.3 MB/s\u001b[0m eta \u001b[36m0:00:00\u001b[0m\n",
            "\u001b[?25hDownloading Deprecated-1.2.14-py2.py3-none-any.whl (9.6 kB)\n",
            "Installing collected packages: deprecated, tf-keras-vis\n",
            "Successfully installed deprecated-1.2.14 tf-keras-vis-0.8.7\n"
          ]
        }
      ]
    },
    {
      "cell_type": "code",
      "source": [
        "import numpy as np\n",
        "import matplotlib.pyplot as plt\n",
        "import tensorflow as tf\n",
        "from tensorflow.keras import layers, models, Input\n",
        "from tensorflow.keras.datasets import fashion_mnist\n",
        "from tf_keras_vis.gradcam_plus_plus import GradcamPlusPlus\n",
        "from tf_keras_vis.utils.model_modifiers import ReplaceToLinear\n",
        "from tf_keras_vis.utils.scores import CategoricalScore\n",
        "from matplotlib import cm"
      ],
      "metadata": {
        "id": "t9oFygPtOuHk"
      },
      "execution_count": null,
      "outputs": []
    },
    {
      "cell_type": "markdown",
      "source": [
        "# CARGAR DATASET\n"
      ],
      "metadata": {
        "id": "sKBl8AW3O_QM"
      }
    },
    {
      "cell_type": "markdown",
      "source": [
        "En esta seccion se prepara el conjunto de datos Fashion MNIST para ser usado en un modelo CNN, normalizando los datos y ajustando la forma de las imágenes para que incluyan un canal de profundidad adicional\n"
      ],
      "metadata": {
        "id": "V-MSIApe3EPm"
      }
    },
    {
      "cell_type": "code",
      "source": [
        "\n",
        "(x_train, y_train), (x_test, y_test) = fashion_mnist.load_data()\n",
        "x_train = x_train.astype('float32') / 255.\n",
        "x_test = x_test.astype('float32') / 255.\n",
        "\n",
        "#Redimensionar los datos para ser compatibles con un modelo CNN\n",
        "x_train = np.expand_dims(x_train, -1)\n",
        "x_test = np.expand_dims(x_test, -1)\n"
      ],
      "metadata": {
        "colab": {
          "base_uri": "https://localhost:8080/"
        },
        "id": "Cr_kmW4XO-bc",
        "outputId": "bb757995-9a31-4aa1-9dab-d6fc51348d8d"
      },
      "execution_count": null,
      "outputs": [
        {
          "output_type": "stream",
          "name": "stdout",
          "text": [
            "Downloading data from https://storage.googleapis.com/tensorflow/tf-keras-datasets/train-labels-idx1-ubyte.gz\n",
            "\u001b[1m29515/29515\u001b[0m \u001b[32m━━━━━━━━━━━━━━━━━━━━\u001b[0m\u001b[37m\u001b[0m \u001b[1m0s\u001b[0m 0us/step\n",
            "Downloading data from https://storage.googleapis.com/tensorflow/tf-keras-datasets/train-images-idx3-ubyte.gz\n",
            "\u001b[1m26421880/26421880\u001b[0m \u001b[32m━━━━━━━━━━━━━━━━━━━━\u001b[0m\u001b[37m\u001b[0m \u001b[1m0s\u001b[0m 0us/step\n",
            "Downloading data from https://storage.googleapis.com/tensorflow/tf-keras-datasets/t10k-labels-idx1-ubyte.gz\n",
            "\u001b[1m5148/5148\u001b[0m \u001b[32m━━━━━━━━━━━━━━━━━━━━\u001b[0m\u001b[37m\u001b[0m \u001b[1m0s\u001b[0m 1us/step\n",
            "Downloading data from https://storage.googleapis.com/tensorflow/tf-keras-datasets/t10k-images-idx3-ubyte.gz\n",
            "\u001b[1m4422102/4422102\u001b[0m \u001b[32m━━━━━━━━━━━━━━━━━━━━\u001b[0m\u001b[37m\u001b[0m \u001b[1m0s\u001b[0m 0us/step\n"
          ]
        }
      ]
    },
    {
      "cell_type": "markdown",
      "source": [
        "# AUTOENCODER"
      ],
      "metadata": {
        "id": "YPUOkzdjPvmZ"
      }
    },
    {
      "cell_type": "markdown",
      "source": [
        "Een esta sección del código, se crea un autoencoder para aprender una representación comprimida de imágenes, y luego utiliza la parte codificadora del autoencoder como entrada para un modelo CNN que se entrena para clasificar imágenes en el conjunto de datos Fashion MNIST"
      ],
      "metadata": {
        "id": "RSffdyC33-TM"
      }
    },
    {
      "cell_type": "code",
      "source": [
        "latent_dim = 64\n",
        "inputs = Input(shape=(28, 28, 1))\n",
        "encoded = layers.Flatten()(inputs)\n",
        "encoded = layers.Dense(latent_dim, activation='relu')(encoded)\n",
        "\n",
        "decoded = layers.Dense(28*28, activation='sigmoid')(encoded)\n",
        "decoded = layers.Reshape((28, 28, 1))(decoded)\n",
        "\n",
        "autoencoder = models.Model(inputs, decoded)\n",
        "autoencoder.compile(optimizer='adam', loss='mse')\n",
        "autoencoder.fit(x_train, x_train, epochs=5, validation_data=(x_test, x_test))\n",
        "\n",
        "encoder = models.Model(inputs, encoded)   #Extraer la parte del codificador del autoencoder\n",
        "\n",
        "# Definir el modelo CNN utilizando la salida del codificador\n",
        "encoded_input = encoder(inputs)\n",
        "x = layers.Dense(128, activation='relu')(encoded_input)\n",
        "x = layers.Reshape((16, 8, 1))(x)\n",
        "x = layers.Conv2D(32, (3, 3), padding='same', activation='relu')(x)\n",
        "x = layers.MaxPooling2D((2, 2))(x)\n",
        "x = layers.Conv2D(64, (3, 3), padding='same', activation='relu')(x)\n",
        "x = layers.MaxPooling2D((2, 2))(x)\n",
        "x = layers.Conv2D(64, (3, 3), padding='same', activation='relu')(x)\n",
        "x = layers.Flatten()(x)\n",
        "x = layers.Dense(64, activation='relu')(x)\n",
        "outputs = layers.Dense(10, activation='softmax')(x)\n",
        "\n",
        "# Crear el modelo final\n",
        "model = models.Model(inputs, outputs)\n",
        "\n",
        "# Compilar el modelo\n",
        "model.compile(optimizer='adam',\n",
        "              loss='sparse_categorical_crossentropy',\n",
        "              metrics=['accuracy'])\n",
        "\n",
        "# Entrenar el modelo de clasificación\n",
        "model.fit(x_train, y_train, epochs=5, validation_data=(x_test, y_test))\n",
        "\n",
        "# Evaluar el modelo\n",
        "model.evaluate(x_test, y_test)"
      ],
      "metadata": {
        "colab": {
          "base_uri": "https://localhost:8080/"
        },
        "id": "P_4wEyNNPuYB",
        "outputId": "301c089f-6595-4a52-db1e-73310f919db8"
      },
      "execution_count": null,
      "outputs": [
        {
          "output_type": "stream",
          "name": "stdout",
          "text": [
            "Epoch 1/5\n",
            "\u001b[1m1875/1875\u001b[0m \u001b[32m━━━━━━━━━━━━━━━━━━━━\u001b[0m\u001b[37m\u001b[0m \u001b[1m17s\u001b[0m 8ms/step - loss: 0.0402 - val_loss: 0.0131\n",
            "Epoch 2/5\n",
            "\u001b[1m1875/1875\u001b[0m \u001b[32m━━━━━━━━━━━━━━━━━━━━\u001b[0m\u001b[37m\u001b[0m \u001b[1m14s\u001b[0m 4ms/step - loss: 0.0122 - val_loss: 0.0106\n",
            "Epoch 3/5\n",
            "\u001b[1m1875/1875\u001b[0m \u001b[32m━━━━━━━━━━━━━━━━━━━━\u001b[0m\u001b[37m\u001b[0m \u001b[1m10s\u001b[0m 4ms/step - loss: 0.0103 - val_loss: 0.0097\n",
            "Epoch 4/5\n",
            "\u001b[1m1875/1875\u001b[0m \u001b[32m━━━━━━━━━━━━━━━━━━━━\u001b[0m\u001b[37m\u001b[0m \u001b[1m9s\u001b[0m 4ms/step - loss: 0.0096 - val_loss: 0.0093\n",
            "Epoch 5/5\n",
            "\u001b[1m1875/1875\u001b[0m \u001b[32m━━━━━━━━━━━━━━━━━━━━\u001b[0m\u001b[37m\u001b[0m \u001b[1m8s\u001b[0m 4ms/step - loss: 0.0093 - val_loss: 0.0091\n",
            "Epoch 1/5\n",
            "\u001b[1m1875/1875\u001b[0m \u001b[32m━━━━━━━━━━━━━━━━━━━━\u001b[0m\u001b[37m\u001b[0m \u001b[1m29s\u001b[0m 14ms/step - accuracy: 0.7509 - loss: 0.7056 - val_accuracy: 0.8467 - val_loss: 0.4262\n",
            "Epoch 2/5\n",
            "\u001b[1m1875/1875\u001b[0m \u001b[32m━━━━━━━━━━━━━━━━━━━━\u001b[0m\u001b[37m\u001b[0m \u001b[1m29s\u001b[0m 15ms/step - accuracy: 0.8614 - loss: 0.3775 - val_accuracy: 0.8497 - val_loss: 0.4002\n",
            "Epoch 3/5\n",
            "\u001b[1m1875/1875\u001b[0m \u001b[32m━━━━━━━━━━━━━━━━━━━━\u001b[0m\u001b[37m\u001b[0m \u001b[1m38s\u001b[0m 14ms/step - accuracy: 0.8747 - loss: 0.3388 - val_accuracy: 0.8670 - val_loss: 0.3620\n",
            "Epoch 4/5\n",
            "\u001b[1m1875/1875\u001b[0m \u001b[32m━━━━━━━━━━━━━━━━━━━━\u001b[0m\u001b[37m\u001b[0m \u001b[1m42s\u001b[0m 14ms/step - accuracy: 0.8840 - loss: 0.3153 - val_accuracy: 0.8564 - val_loss: 0.3817\n",
            "Epoch 5/5\n",
            "\u001b[1m1875/1875\u001b[0m \u001b[32m━━━━━━━━━━━━━━━━━━━━\u001b[0m\u001b[37m\u001b[0m \u001b[1m40s\u001b[0m 14ms/step - accuracy: 0.8871 - loss: 0.2994 - val_accuracy: 0.8749 - val_loss: 0.3361\n",
            "\u001b[1m313/313\u001b[0m \u001b[32m━━━━━━━━━━━━━━━━━━━━\u001b[0m\u001b[37m\u001b[0m \u001b[1m2s\u001b[0m 6ms/step - accuracy: 0.8766 - loss: 0.3336\n"
          ]
        },
        {
          "output_type": "execute_result",
          "data": {
            "text/plain": [
              "[0.33606868982315063, 0.8748999834060669]"
            ]
          },
          "metadata": {},
          "execution_count": 4
        }
      ]
    },
    {
      "cell_type": "markdown",
      "source": [
        "# GradCAM++"
      ],
      "metadata": {
        "id": "2x0aHw0BQPgT"
      }
    },
    {
      "cell_type": "markdown",
      "source": [
        "Esta diseñada para proporcionar una visualización más precisa de las regiones importantes en la imagen que contribuyen a la decisión del modelo. Estas técnicas ayudan a interpretar y entender las decisiones de los modelos de redes neuronales profundas, particularmente en aplicaciones de visión por computadora.Su propósito es identificar y visualizar qué partes de una imagen influyen más en la decisión de clasificación de una red neuronal y su funcionamiento se basa en los gradientes de la clase objetivo con respecto a los mapas de activación de la última capa convolucional para generar un mapa de activación que destaca las regiones importantes en la imagen."
      ],
      "metadata": {
        "id": "62saoz9l4Hwi"
      }
    },
    {
      "cell_type": "markdown",
      "source": [
        "En esta sección se prepara el entorno para generar mapas de activación de Grad-CAM++ que visualizan las áreas relevantes de las imágenes en función de las decisiones del modelo de red neuronal."
      ],
      "metadata": {
        "id": "dGWH-M1e5Fqw"
      }
    },
    {
      "cell_type": "code",
      "source": [
        "# Configuración para Grad-CAM++\n",
        "replace2linear = ReplaceToLinear()\n",
        "\n",
        "# Crear el objeto GradCAM++\n",
        "gradcam = GradcamPlusPlus(model,\n",
        "                          model_modifier=replace2linear,\n",
        "                          clone=True)\n"
      ],
      "metadata": {
        "id": "QdMkRFkyQMfd"
      },
      "execution_count": null,
      "outputs": []
    },
    {
      "cell_type": "markdown",
      "source": [
        "# RECONTRUCCIÓN\n"
      ],
      "metadata": {
        "id": "En2Wgy81R86H"
      }
    },
    {
      "cell_type": "markdown",
      "source": [
        "En esta sección se calcula la pérdida de reconstrucción para una imagen dada. La función toma una imagen como entrada, la pasa a través de un autoencoder para obtener su reconstrucción, y luego calcula la pérdida como el error cuadrático medio entre la imagen original y su reconstrucción. Esta medida de pérdida indica cuán bien el autoencoder ha reconstruido la imagen y se utiliza para evaluar el desempeño del modelo."
      ],
      "metadata": {
        "id": "4Pxztcc26dVM"
      }
    },
    {
      "cell_type": "code",
      "source": [
        "# Función para calcular la pérdida de reconstrucción\n",
        "def calcular_perdida_reconstruccion(imagen):\n",
        "    reconstruccion = autoencoder.predict(np.expand_dims(imagen, 0))\n",
        "    perdida = np.mean((reconstruccion - imagen) ** 2)\n",
        "    return perdida"
      ],
      "metadata": {
        "id": "aR980Qrw6POD"
      },
      "execution_count": null,
      "outputs": []
    },
    {
      "cell_type": "markdown",
      "source": [
        "# GRAFICOS"
      ],
      "metadata": {
        "id": "6OqPVZut6j0z"
      }
    },
    {
      "cell_type": "markdown",
      "source": [
        "En esta sección del código se define una función mostrar_mapas_de_calor que visualiza los mapas de calor de activación para diferentes clases y capas de una red neuronal. Para cada combinación de clase y capa especificada, se selecciona una imagen de prueba de la clase, se calcula su pérdida de reconstrucción, y se genera un mapa de calor utilizando Grad-CAM++. Este mapa de calor se escala según la pérdida de reconstrucción para reflejar la intensidad de las activaciones. Luego, se superpone el mapa de calor sobre la imagen original y se muestra en una cuadrícula de subgráficas, donde cada celda representa una combinación de clase y capa. Además, se añade una barra de color para indicar la escala de intensidades."
      ],
      "metadata": {
        "id": "Jyysyj4A63qG"
      }
    },
    {
      "cell_type": "code",
      "execution_count": null,
      "metadata": {
        "colab": {
          "base_uri": "https://localhost:8080/",
          "height": 798
        },
        "id": "Ive5qdoyOVt5",
        "outputId": "a7facce4-38c3-432a-8469-bb2cee325049"
      },
      "outputs": [
        {
          "output_type": "stream",
          "name": "stdout",
          "text": [
            "\u001b[1m1/1\u001b[0m \u001b[32m━━━━━━━━━━━━━━━━━━━━\u001b[0m\u001b[37m\u001b[0m \u001b[1m0s\u001b[0m 89ms/step\n",
            "\u001b[1m1/1\u001b[0m \u001b[32m━━━━━━━━━━━━━━━━━━━━\u001b[0m\u001b[37m\u001b[0m \u001b[1m0s\u001b[0m 32ms/step\n",
            "\u001b[1m1/1\u001b[0m \u001b[32m━━━━━━━━━━━━━━━━━━━━\u001b[0m\u001b[37m\u001b[0m \u001b[1m0s\u001b[0m 29ms/step\n",
            "\u001b[1m1/1\u001b[0m \u001b[32m━━━━━━━━━━━━━━━━━━━━\u001b[0m\u001b[37m\u001b[0m \u001b[1m0s\u001b[0m 31ms/step\n",
            "\u001b[1m1/1\u001b[0m \u001b[32m━━━━━━━━━━━━━━━━━━━━\u001b[0m\u001b[37m\u001b[0m \u001b[1m0s\u001b[0m 30ms/step\n",
            "\u001b[1m1/1\u001b[0m \u001b[32m━━━━━━━━━━━━━━━━━━━━\u001b[0m\u001b[37m\u001b[0m \u001b[1m0s\u001b[0m 30ms/step\n",
            "\u001b[1m1/1\u001b[0m \u001b[32m━━━━━━━━━━━━━━━━━━━━\u001b[0m\u001b[37m\u001b[0m \u001b[1m0s\u001b[0m 32ms/step\n",
            "\u001b[1m1/1\u001b[0m \u001b[32m━━━━━━━━━━━━━━━━━━━━\u001b[0m\u001b[37m\u001b[0m \u001b[1m0s\u001b[0m 37ms/step\n",
            "\u001b[1m1/1\u001b[0m \u001b[32m━━━━━━━━━━━━━━━━━━━━\u001b[0m\u001b[37m\u001b[0m \u001b[1m0s\u001b[0m 31ms/step\n"
          ]
        },
        {
          "output_type": "stream",
          "name": "stderr",
          "text": [
            "<ipython-input-6-0cee9d640ff3>:43: UserWarning: This figure includes Axes that are not compatible with tight_layout, so results might be incorrect.\n",
            "  plt.tight_layout(rect=[0, 0, 0.9, 1])  # Ajustar para hacer espacio para la barra de color\n"
          ]
        },
        {
          "output_type": "display_data",
          "data": {
            "text/plain": [
              "<Figure size 800x600 with 10 Axes>"
            ],
            "image/png": "[encoded data removed]"
          },
          "metadata": {}
        }
      ],
      "source": [
        "\n",
        "\n",
        "# Función para mostrar los mapas de calor\n",
        "def mostrar_mapas_de_calor(clases, capas, figsize=(12, 8)):\n",
        "    # Preparar los gráficos\n",
        "    fig, ax = plt.subplots(len(capas), len(clases), figsize=figsize, sharex=True, sharey=True)\n",
        "\n",
        "    # Gráfico: Eje Y = Capas, Eje X = Clases\n",
        "    for i, layer_idx in enumerate(capas):\n",
        "        for j, class_idx in enumerate(clases):\n",
        "            # Filtrar las imágenes de prueba que pertenecen a la clase actual\n",
        "            indices = np.where(y_test == class_idx)[0]\n",
        "            images = x_test[indices][:1]  # Selecciona una imagen de esta clase\n",
        "\n",
        "            # Calcular la pérdida de reconstrucción para la imagen\n",
        "            perdida_reconstruccion = calcular_perdida_reconstruccion(images[0])\n",
        "\n",
        "            # Obtener el score y aplicar GradCAM++ en la capa seleccionada\n",
        "            score = CategoricalScore([class_idx])\n",
        "            cam = gradcam(score, images, penultimate_layer=layer_idx)\n",
        "\n",
        "            # Escalar el mapa de calor según la pérdida de reconstrucción\n",
        "            intensidad = np.clip(1 - perdida_reconstruccion, 0, 1)  # Mayor intensidad para menor pérdida\n",
        "            heatmap = np.uint8(cm.jet(cam[0])[..., :3] * 255 * intensidad)\n",
        "\n",
        "            # Mostrar la imagen y el mapa de calor\n",
        "            ax[j, i].imshow(np.squeeze(images[0]), cmap='gray')\n",
        "            ax[j, i].imshow(heatmap, cmap='jet', alpha=0.5)\n",
        "            ax[j, i].set_title(f'Clase: {class_idx}\\nCapa: {layer_idx}')\n",
        "            ax[j, i].axis('off')\n",
        "\n",
        "    # Añadir una barra de color\n",
        "    cbar_ax = fig.add_axes([0.9, 0.15, 0.03, 0.7])\n",
        "    norm = plt.Normalize(vmin=0, vmax=1)\n",
        "    sm = plt.cm.ScalarMappable(cmap='jet', norm=norm)\n",
        "    sm.set_array([])\n",
        "    fig.colorbar(sm, cax=cbar_ax)\n",
        "\n",
        "    plt.tight_layout(rect=[0, 0, 0.9, 1])  # Ajustar para hacer espacio para la barra de color\n",
        "    plt.show()\n",
        "\n",
        "# Parámetros de ejemplo para visualizar\n",
        "clases_a_analizar = [0, 1, 2]  # T-Shirt, Trouser, Pullover\n",
        "capas_a_visualizar = [-1, -3, -5]  # Capas que se van a analizar\n",
        "\n",
        "# Mostrar los mapas de calor\n",
        "mostrar_mapas_de_calor(clases_a_analizar, capas_a_visualizar, figsize=(8, 6))\n"
      ]
    }
  ]
}